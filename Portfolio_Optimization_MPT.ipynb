{
 "cells": [
  {
   "cell_type": "markdown",
   "id": "9e126240",
   "metadata": {},
   "source": [
    "# 📈 Portfolio Optimization with Modern Portfolio Theory (MPT)\n",
    "\n",
    "Welcome! In this project, we’ll build an optimized stock portfolio using **Modern Portfolio Theory**.\n",
    "\n",
    "This notebook is designed for beginners, with step-by-step explanations."
   ]
  },
  {
   "cell_type": "markdown",
   "id": "c64514de",
   "metadata": {},
   "source": [
    "## 🎯 Objective\n",
    "We aim to:\n",
    "- Download stock data\n",
    "- Calculate returns and risk\n",
    "- Simulate portfolios\n",
    "- Identify the best one using the **Sharpe Ratio**"
   ]
  },
  {
   "cell_type": "code",
   "execution_count": 21,
   "id": "f1afc848",
   "metadata": {},
   "outputs": [],
   "source": [
    "import numpy as np\n",
    "import pandas as pd\n",
    "import matplotlib.pyplot as plt\n",
    "import yfinance as yf\n",
    "from scipy.optimize import minimize\n",
    "\n",
    "%matplotlib inline"
   ]
  },
  {
   "cell_type": "markdown",
   "id": "7d95c2c5",
   "metadata": {},
   "source": [
    "## 💼 Step 1: Choose Your Stocks"
   ]
  },
  {
   "cell_type": "code",
   "execution_count": 22,
   "id": "32915d31",
   "metadata": {},
   "outputs": [],
   "source": [
    "tickers = ['AAPL', 'MSFT', 'GOOGL', 'AMZN', 'META']  # You can customize this list"
   ]
  },
  {
   "cell_type": "code",
   "execution_count": 23,
   "id": "89af3457",
   "metadata": {},
   "outputs": [
    {
     "name": "stdout",
     "output_type": "stream",
     "text": [
      "2015-10-20 16:32:06.252079\n"
     ]
    }
   ],
   "source": [
    "from datetime import datetime, timedelta\n",
    "\n",
    "end_date = datetime.today()\n",
    "start_date = end_date - timedelta(days=10*365)  # Get five years of data\n",
    "print(start_date)"
   ]
  },
  {
   "cell_type": "markdown",
   "id": "24ed32b5",
   "metadata": {},
   "source": [
    "## 📥 Step 2: Download Historical Data"
   ]
  },
  {
   "cell_type": "code",
   "execution_count": 24,
   "id": "2bebcbda",
   "metadata": {},
   "outputs": [
    {
     "name": "stderr",
     "output_type": "stream",
     "text": [
      "C:\\Users\\Krishna Bhardwaj\\AppData\\Local\\Temp\\ipykernel_74292\\2590663921.py:3: FutureWarning: YF.download() has changed argument auto_adjust default to True\n",
      "  data = yf.download(ticker, start=start_date, end=end_date)\n",
      "[*********************100%***********************]  1 of 1 completed\n",
      "C:\\Users\\Krishna Bhardwaj\\AppData\\Local\\Temp\\ipykernel_74292\\2590663921.py:3: FutureWarning: YF.download() has changed argument auto_adjust default to True\n",
      "  data = yf.download(ticker, start=start_date, end=end_date)\n",
      "[*********************100%***********************]  1 of 1 completed\n",
      "C:\\Users\\Krishna Bhardwaj\\AppData\\Local\\Temp\\ipykernel_74292\\2590663921.py:3: FutureWarning: YF.download() has changed argument auto_adjust default to True\n",
      "  data = yf.download(ticker, start=start_date, end=end_date)\n",
      "[*********************100%***********************]  1 of 1 completed\n",
      "C:\\Users\\Krishna Bhardwaj\\AppData\\Local\\Temp\\ipykernel_74292\\2590663921.py:3: FutureWarning: YF.download() has changed argument auto_adjust default to True\n",
      "  data = yf.download(ticker, start=start_date, end=end_date)\n",
      "[*********************100%***********************]  1 of 1 completed\n",
      "C:\\Users\\Krishna Bhardwaj\\AppData\\Local\\Temp\\ipykernel_74292\\2590663921.py:3: FutureWarning: YF.download() has changed argument auto_adjust default to True\n",
      "  data = yf.download(ticker, start=start_date, end=end_date)\n",
      "[*********************100%***********************]  1 of 1 completed\n"
     ]
    }
   ],
   "source": [
    "adj_close_df = pd.DataFrame()\n",
    "for ticker in tickers:\n",
    "    data = yf.download(ticker, start=start_date, end=end_date)\n",
    "    # Use 'Close' column instead of 'Adj Close'\n",
    "    adj_close_df[ticker] = data['Close']"
   ]
  },
  {
   "cell_type": "code",
   "execution_count": 25,
   "id": "fd5c07c8",
   "metadata": {},
   "outputs": [
    {
     "name": "stdout",
     "output_type": "stream",
     "text": [
      "                  AAPL        MSFT       GOOGL        AMZN        META\n",
      "Date                                                                  \n",
      "2015-10-20   25.567026   41.625629   33.767109   28.044001   96.405678\n",
      "2015-10-21   25.564774   41.128952   33.359909   27.788500   96.515022\n",
      "2015-10-22   25.955801   41.852180   33.823715   28.195499   99.059326\n",
      "2015-10-23   26.760321   46.069660   35.720139   29.951500  101.563889\n",
      "2015-10-26   25.906366   47.272156   36.305599   30.430500  103.134201\n",
      "...                ...         ...         ...         ...         ...\n",
      "2025-10-10  245.270004  510.959991  236.570007  216.369995  705.299988\n",
      "2025-10-13  247.660004  514.049988  244.149994  220.070007  715.700012\n",
      "2025-10-14  247.770004  513.570007  245.449997  216.389999  708.650024\n",
      "2025-10-15  249.339996  513.429993  251.029999  215.570007  717.549988\n",
      "2025-10-16  247.449997  511.609985  251.460007  214.470001  712.070007\n",
      "\n",
      "[2513 rows x 5 columns]\n"
     ]
    }
   ],
   "source": [
    "print(adj_close_df)"
   ]
  },
  {
   "cell_type": "markdown",
   "id": "7b4e0a0f",
   "metadata": {},
   "source": [
    "## 📥 Step 3: Calculate Lognormal Returns "
   ]
  },
  {
   "cell_type": "code",
   "execution_count": 26,
   "id": "952f62e6",
   "metadata": {},
   "outputs": [],
   "source": [
    "# I would recommend using the lognormal ret. because they are additive for future calculations \n",
    "log_returns = np.log(adj_close_df / adj_close_df.shift(1))\n"
   ]
  },
  {
   "cell_type": "markdown",
   "id": "c3d4bc62",
   "metadata": {},
   "source": [
    "Drop any missing values "
   ]
  },
  {
   "cell_type": "code",
   "execution_count": 27,
   "id": "a7ba1391",
   "metadata": {},
   "outputs": [],
   "source": [
    "log_return = log_returns.dropna()  "
   ]
  },
  {
   "cell_type": "markdown",
   "id": "f81bf6da",
   "metadata": {},
   "source": [
    "## 📊 Step 4: Calculate Mean Returns and Covariance"
   ]
  },
  {
   "cell_type": "markdown",
   "id": "52f03609",
   "metadata": {},
   "source": [
    "## Calculating Covariance Matrix Using annualized log returns "
   ]
  },
  {
   "cell_type": "code",
   "execution_count": 28,
   "id": "e6fecf56",
   "metadata": {},
   "outputs": [
    {
     "name": "stdout",
     "output_type": "stream",
     "text": [
      "\n",
      "Annualized Covariance Matrix:\n",
      "\n",
      "           AAPL      MSFT     GOOGL      AMZN      META\n",
      "AAPL   0.085076  0.053449  0.051463  0.055155  0.058915\n",
      "MSFT   0.053449  0.072480  0.055660  0.059313  0.062254\n",
      "GOOGL  0.051463  0.055660  0.082317  0.061042  0.069012\n",
      "AMZN   0.055155  0.059313  0.061042  0.106906  0.077727\n",
      "META   0.058915  0.062254  0.069012  0.077727  0.149782\n"
     ]
    }
   ],
   "source": [
    "cov_matrix = log_return.cov() * 252  \n",
    "print(\"\\nAnnualized Covariance Matrix:\\n\")\n",
    "print(cov_matrix)"
   ]
  },
  {
   "cell_type": "code",
   "execution_count": 29,
   "id": "11ac6334",
   "metadata": {},
   "outputs": [
    {
     "name": "stdout",
     "output_type": "stream",
     "text": [
      "Daily Mean Returns:\n",
      " AAPL     0.000904\n",
      "MSFT     0.000999\n",
      "GOOGL    0.000799\n",
      "AMZN     0.000810\n",
      "META     0.000796\n",
      "dtype: float64\n",
      "\n",
      "Annualized Mean Returns:\n",
      " AAPL     0.227713\n",
      "MSFT     0.251684\n",
      "GOOGL    0.201419\n",
      "AMZN     0.204087\n",
      "META     0.200598\n",
      "dtype: float64\n"
     ]
    }
   ],
   "source": [
    "# Calculate daily and annual returns\n",
    "mean_daily_returns = log_return.mean()\n",
    "mean_annual_returns = mean_daily_returns * 252  # Annualize the returns (252 trading days)\n",
    "\n",
    "print(\"Daily Mean Returns:\\n\", mean_daily_returns)\n",
    "print(\"\\nAnnualized Mean Returns:\\n\", mean_annual_returns)\n"
   ]
  },
  {
   "cell_type": "markdown",
   "id": "57e48aec",
   "metadata": {},
   "source": [
    "## ⚙️ Step 5: Define Portfolio Performance Functions/Metrics "
   ]
  },
  {
   "cell_type": "code",
   "execution_count": 30,
   "id": "3f5a0b70",
   "metadata": {},
   "outputs": [],
   "source": [
    "def standard_deviation(weights, cov_matrix): #Calculate the portfolio standard deviation\n",
    "    variance = weights.T @ cov_matrix @ weights\n",
    "    return np.sqrt(variance)\n",
    "\n",
    "def expected_return(weights, log_returns): #Calculate expected return\n",
    "    return np.sum(log_returns.mean()*weights)*252\n",
    "\n",
    "def sharpe_ratio(weights, log_returns, cov_matrix, risk_free_rate): #Calculate Sharpe Ratio \n",
    "    return (expected_return(weights, log_returns) - risk_free_rate) / standard_deviation(weights, cov_matrix)"
   ]
  },
  {
   "cell_type": "markdown",
   "id": "6cff9bcb",
   "metadata": {},
   "source": [
    "## 🚧 Step 6: Optimization Constraints"
   ]
  },
  {
   "cell_type": "code",
   "execution_count": 31,
   "id": "50ef3322",
   "metadata": {},
   "outputs": [],
   "source": [
    "# We set the risk-free rate, define a function to minimize the negative Sharpe ratio, and set constraints and bounds for the optimization process\n",
    "risk_free_rate = .02"
   ]
  },
  {
   "cell_type": "code",
   "execution_count": 32,
   "id": "a67e925b",
   "metadata": {},
   "outputs": [
    {
     "name": "stdout",
     "output_type": "stream",
     "text": [
      "Requirement already satisfied: fredapi in c:\\users\\krishna bhardwaj\\appdata\\local\\programs\\python\\python313\\lib\\site-packages (0.5.2)\n",
      "Requirement already satisfied: pandas in c:\\users\\krishna bhardwaj\\appdata\\local\\programs\\python\\python313\\lib\\site-packages (from fredapi) (2.3.3)\n",
      "Requirement already satisfied: numpy>=1.26.0 in c:\\users\\krishna bhardwaj\\appdata\\local\\programs\\python\\python313\\lib\\site-packages (from pandas->fredapi) (2.3.4)\n",
      "Requirement already satisfied: python-dateutil>=2.8.2 in c:\\users\\krishna bhardwaj\\appdata\\roaming\\python\\python313\\site-packages (from pandas->fredapi) (2.9.0.post0)\n",
      "Requirement already satisfied: pytz>=2020.1 in c:\\users\\krishna bhardwaj\\appdata\\local\\programs\\python\\python313\\lib\\site-packages (from pandas->fredapi) (2025.2)\n",
      "Requirement already satisfied: tzdata>=2022.7 in c:\\users\\krishna bhardwaj\\appdata\\local\\programs\\python\\python313\\lib\\site-packages (from pandas->fredapi) (2025.2)\n",
      "Requirement already satisfied: six>=1.5 in c:\\users\\krishna bhardwaj\\appdata\\roaming\\python\\python313\\site-packages (from python-dateutil>=2.8.2->pandas->fredapi) (1.17.0)\n",
      "Note: you may need to restart the kernel to use updated packages.\n"
     ]
    }
   ],
   "source": [
    "# Install and import fredapi, then initialize FRED\n",
    "%pip install fredapi\n",
    "\n",
    "from fredapi import Fred\n",
    "\n",
    "# Replace 'your_api_key' with your actual FRED API key\n",
    "fred = Fred(api_key='0a81ac97eaecad3c384b5aec7cda85c9')\n",
    "ten_year_treasury = fred.get_series_latest_release('DGS10') / 100  # Convert percentage to decimal"
   ]
  },
  {
   "cell_type": "code",
   "execution_count": 33,
   "id": "8df2b4a7",
   "metadata": {},
   "outputs": [
    {
     "name": "stdout",
     "output_type": "stream",
     "text": [
      "0.0405\n"
     ]
    }
   ],
   "source": [
    "# Set the risk-free rate \n",
    "risk_free_rate = ten_year_treasury.iloc[-1]  # Use the latest available value\n",
    "print(risk_free_rate)"
   ]
  },
  {
   "cell_type": "markdown",
   "id": "bc53f58c",
   "metadata": {},
   "source": [
    "## 🚀 Step 7: Optimize the Portfolio"
   ]
  },
  {
   "cell_type": "code",
   "execution_count": 34,
   "id": "89c39162",
   "metadata": {},
   "outputs": [],
   "source": [
    "\n",
    "#Define the negative Sharpe ratio function for minimization\n",
    "\n",
    "def neg_sharpe_ratio(weights, log_returns, cov_matrix, risk_free_rate):\n",
    "    return -sharpe_ratio(weights, log_returns, cov_matrix, risk_free_rate)"
   ]
  },
  {
   "cell_type": "code",
   "execution_count": 35,
   "id": "57290768",
   "metadata": {},
   "outputs": [],
   "source": [
    "# Set constraints and bounds for optimization\n",
    "constraints = {'type': 'eq', 'fun': lambda weights: np.sum(weights) - 1}\n",
    "bounds = [(0, 0.4) for _ in range(len(tickers))] # (0)No short selling, (0.4)max 40% in any asset"
   ]
  },
  {
   "cell_type": "code",
   "execution_count": 36,
   "id": "2c56fe11",
   "metadata": {},
   "outputs": [
    {
     "name": "stdout",
     "output_type": "stream",
     "text": [
      "[0.2 0.2 0.2 0.2 0.2]\n"
     ]
    }
   ],
   "source": [
    "# Initial Rates for weights\n",
    "initial_weights = np.array([1/len(tickers)]*len(tickers))\n",
    "print(initial_weights)"
   ]
  },
  {
   "cell_type": "code",
   "execution_count": 37,
   "id": "25444925",
   "metadata": {},
   "outputs": [],
   "source": [
    "# Optimize the weights to maximize the Sharpe ratio\n",
    "# 'SLSQP' Stands for Sequential Least Squares Quadratic Programming, which is a numerical optimization technique suitable for solving nolinear optimization problems with constraints.\n",
    "optimized_results = minimize(neg_sharpe_ratio, initial_weights, args=(log_returns, cov_matrix, risk_free_rate), method='SLSQP', constraints=constraints, bounds=bounds)"
   ]
  },
  {
   "cell_type": "code",
   "execution_count": 38,
   "id": "b7e151f5",
   "metadata": {},
   "outputs": [],
   "source": [
    "# Get the Optimal Weights\n",
    "optimal_weights = optimized_results.x"
   ]
  },
  {
   "cell_type": "markdown",
   "id": "dcaebc66",
   "metadata": {},
   "source": [
    "## 🚀 Step 8: Analyze The Optimal Portfolio "
   ]
  },
  {
   "cell_type": "code",
   "execution_count": 39,
   "id": "f533e124",
   "metadata": {},
   "outputs": [
    {
     "name": "stdout",
     "output_type": "stream",
     "text": [
      "Optimal Weights:\n",
      "AAPL: 0.4000\n",
      "MSFT: 0.4000\n",
      "GOOGL: 0.1664\n",
      "AMZN: 0.0336\n",
      "META: 0.0000\n",
      "Expected Annual Return: 0.2321\n",
      "Expected Volatility: 0.2505\n",
      "Sharpe Ratio: 0.7651\n"
     ]
    }
   ],
   "source": [
    "# Display analytics of the optimal portfolio\n",
    "\n",
    "optimal_weights = optimized_results.x\n",
    "\n",
    "print(\"Optimal Weights:\")\n",
    "for ticker, weight in zip(tickers, optimal_weights):\n",
    "    print(f\"{ticker}: {weight:.4f}\")\n",
    "\n",
    "optimal_portfolio_return = expected_return(optimal_weights, log_returns)\n",
    "optimal_portfolio_volatility = standard_deviation(optimal_weights, cov_matrix)\n",
    "optimal_sharpe_ratio = sharpe_ratio(optimal_weights, log_returns, cov_matrix, risk_free_rate)\n",
    "\n",
    "print(f\"Expected Annual Return: {optimal_portfolio_return:.4f}\")\n",
    "print(f\"Expected Volatility: {optimal_portfolio_volatility:.4f}\")\n",
    "print(f\"Sharpe Ratio: {optimal_sharpe_ratio:.4f}\")"
   ]
  },
  {
   "cell_type": "markdown",
   "id": "b8822be3",
   "metadata": {},
   "source": [
    "## ✅ Step 8: Show Optimized Portfolio"
   ]
  },
  {
   "cell_type": "code",
   "execution_count": 40,
   "id": "82e158a1",
   "metadata": {},
   "outputs": [
    {
     "data": {
      "image/png": "[encoded data removed]",
      "text/plain": [
       "<Figure size 1000x600 with 1 Axes>"
      ]
     },
     "metadata": {},
     "output_type": "display_data"
    }
   ],
   "source": [
    "import matplotlib.pyplot as plt\n",
    "\n",
    "plt.figure(figsize=(10, 6))\n",
    "plt.bar(tickers, optimal_weights)\n",
    "\n",
    "plt.xlabel('Assets')\n",
    "plt.ylabel('Optimal Weights')\n",
    "plt.title('Optimal Portfolio Weights')\n",
    "\n",
    "plt.show()"
   ]
  },
  {
   "cell_type": "markdown",
   "id": "019a4db1",
   "metadata": {},
   "source": [
    "## 🧠 Conclusion\n",
    "\n",
    "You just created an optimized portfolio using **Modern Portfolio Theory**!\n",
    "\n",
    "You learned to:\n",
    "- Download and analyze stock data\n",
    "- Calculate return & risk\n",
    "- Maximize the Sharpe Ratio 🚀\n",
    "\n",
    "Try it with different stocks or time ranges for more insights."
   ]
  }
 ],
 "metadata": {
  "kernelspec": {
   "display_name": "Python 3",
   "language": "python",
   "name": "python3"
  },
  "language_info": {
   "codemirror_mode": {
    "name": "ipython",
    "version": 3
   },
   "file_extension": ".py",
   "mimetype": "text/x-python",
   "name": "python",
   "nbconvert_exporter": "python",
   "pygments_lexer": "ipython3",
   "version": "3.13.5"
  }
 },
 "nbformat": 4,
 "nbformat_minor": 5
}
